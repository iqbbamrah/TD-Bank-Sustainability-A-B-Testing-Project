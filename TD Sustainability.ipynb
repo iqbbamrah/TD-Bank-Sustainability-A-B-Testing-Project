{
 "cells": [
  {
   "cell_type": "markdown",
   "id": "d47d0fc4",
   "metadata": {},
   "source": [
    "# -----------------------------\n",
    "# 1. Data Simulation\n",
    "# -----------------------------\n",
    "# We create a synthetic dataset of TD customers, assign them randomly to control (A) or treatment (B),\n",
    "# and simulate whether they convert to paperless billing. We also simulate guardrail metrics."
   ]
  },
  {
   "cell_type": "code",
   "execution_count": 1,
   "id": "b1a6b463",
   "metadata": {},
   "outputs": [],
   "source": [
    "import numpy as np\n",
    "import pandas as pd\n",
    "import scipy.stats as st\n",
    "import statsmodels.api as sm\n",
    "import statsmodels.formula.api as smf\n",
    "import matplotlib.pyplot as plt"
   ]
  },
  {
   "cell_type": "code",
   "execution_count": 2,
   "id": "76e68c6b",
   "metadata": {},
   "outputs": [],
   "source": [
    "rng = np.random.default_rng(42)\n",
    "N = 20000\n",
    "\n",
    "\n",
    "customers = pd.DataFrame({\n",
    "\"customer_id\": np.arange(N),\n",
    "\"segment\": rng.choice([\"youth\",\"mass\",\"affluent\"], size=N, p=[0.2,0.6,0.2]),\n",
    "\"age\": rng.integers(18,80,size=N),\n",
    "\"province\": rng.choice([\"ON\",\"QC\",\"BC\",\"AB\",\"MB\",\"NS\",\"NB\",\"SK\",\"NL\",\"PE\"], size=N,\n",
    "p=[0.38,0.23,0.14,0.12,0.03,0.03,0.03,0.02,0.01,0.01]),\n",
    "\"preferred_channel\": rng.choice([\"email\",\"push\",\"sms\"], size=N, p=[0.65,0.3,0.05])\n",
    "})"
   ]
  },
  {
   "cell_type": "markdown",
   "id": "4b8d1b24",
   "metadata": {},
   "source": [
    "# Random assignment to variants"
   ]
  },
  {
   "cell_type": "code",
   "execution_count": 3,
   "id": "7e268b83",
   "metadata": {},
   "outputs": [],
   "source": [
    "customers[\"variant\"] = rng.choice([\"A\",\"B\"], size=N)"
   ]
  },
  {
   "cell_type": "markdown",
   "id": "d5598ee6",
   "metadata": {},
   "source": [
    "# Baseline conversion rate and adjustments by segment and channel"
   ]
  },
  {
   "cell_type": "code",
   "execution_count": 4,
   "id": "c36a797b",
   "metadata": {},
   "outputs": [],
   "source": [
    "base = 0.08\n",
    "seg_adj = customers[\"segment\"].map({\"youth\":0.00,\"mass\":0.00,\"affluent\":0.02}).values\n",
    "ch_adj = customers[\"preferred_channel\"].map({\"email\":0.00,\"push\":0.01,\"sms\":-0.02}).values"
   ]
  },
  {
   "cell_type": "markdown",
   "id": "24dec78a",
   "metadata": {},
   "source": [
    "# Treatment effect: adds uplift if in group B, with stronger effect for youth and push channel"
   ]
  },
  {
   "cell_type": "code",
   "execution_count": 5,
   "id": "c405075c",
   "metadata": {},
   "outputs": [],
   "source": [
    "te = np.where(customers[\"variant\"].eq(\"B\"), 0.025, 0.0)\n",
    "te += np.where((customers[\"variant\"].eq(\"B\")) & (customers[\"segment\"].eq(\"youth\")), 0.01, 0.0)\n",
    "te += np.where((customers[\"variant\"].eq(\"B\")) & (customers[\"preferred_channel\"].eq(\"push\")), 0.005, 0.0)"
   ]
  },
  {
   "cell_type": "markdown",
   "id": "a2101faa",
   "metadata": {},
   "source": [
    "# Generate conversion outcomes based on probabilities"
   ]
  },
  {
   "cell_type": "code",
   "execution_count": 6,
   "id": "e3005c50",
   "metadata": {},
   "outputs": [],
   "source": [
    "p_conv = np.clip(base + seg_adj + ch_adj + te, 0, 1)\n",
    "customers[\"converted\"] = rng.binomial(1, p_conv)"
   ]
  },
  {
   "cell_type": "markdown",
   "id": "a8762ccf",
   "metadata": {},
   "source": [
    "# Simulate guardrail metrics (unsubscribe/complaints)"
   ]
  },
  {
   "cell_type": "code",
   "execution_count": 14,
   "id": "2378754c",
   "metadata": {},
   "outputs": [
    {
     "data": {
      "text/html": [
       "<div>\n",
       "<style scoped>\n",
       "    .dataframe tbody tr th:only-of-type {\n",
       "        vertical-align: middle;\n",
       "    }\n",
       "\n",
       "    .dataframe tbody tr th {\n",
       "        vertical-align: top;\n",
       "    }\n",
       "\n",
       "    .dataframe thead th {\n",
       "        text-align: right;\n",
       "    }\n",
       "</style>\n",
       "<table border=\"1\" class=\"dataframe\">\n",
       "  <thead>\n",
       "    <tr style=\"text-align: right;\">\n",
       "      <th></th>\n",
       "      <th>customer_id</th>\n",
       "      <th>segment</th>\n",
       "      <th>age</th>\n",
       "      <th>province</th>\n",
       "      <th>preferred_channel</th>\n",
       "      <th>variant</th>\n",
       "      <th>converted</th>\n",
       "      <th>unsubscribe</th>\n",
       "      <th>complaint</th>\n",
       "    </tr>\n",
       "  </thead>\n",
       "  <tbody>\n",
       "    <tr>\n",
       "      <th>0</th>\n",
       "      <td>0</td>\n",
       "      <td>mass</td>\n",
       "      <td>73</td>\n",
       "      <td>ON</td>\n",
       "      <td>push</td>\n",
       "      <td>A</td>\n",
       "      <td>0</td>\n",
       "      <td>0</td>\n",
       "      <td>0</td>\n",
       "    </tr>\n",
       "    <tr>\n",
       "      <th>1</th>\n",
       "      <td>1</td>\n",
       "      <td>mass</td>\n",
       "      <td>63</td>\n",
       "      <td>QC</td>\n",
       "      <td>email</td>\n",
       "      <td>A</td>\n",
       "      <td>0</td>\n",
       "      <td>0</td>\n",
       "      <td>0</td>\n",
       "    </tr>\n",
       "    <tr>\n",
       "      <th>2</th>\n",
       "      <td>2</td>\n",
       "      <td>affluent</td>\n",
       "      <td>30</td>\n",
       "      <td>NL</td>\n",
       "      <td>email</td>\n",
       "      <td>B</td>\n",
       "      <td>0</td>\n",
       "      <td>0</td>\n",
       "      <td>0</td>\n",
       "    </tr>\n",
       "    <tr>\n",
       "      <th>3</th>\n",
       "      <td>3</td>\n",
       "      <td>mass</td>\n",
       "      <td>79</td>\n",
       "      <td>ON</td>\n",
       "      <td>email</td>\n",
       "      <td>A</td>\n",
       "      <td>0</td>\n",
       "      <td>0</td>\n",
       "      <td>0</td>\n",
       "    </tr>\n",
       "    <tr>\n",
       "      <th>4</th>\n",
       "      <td>4</td>\n",
       "      <td>youth</td>\n",
       "      <td>79</td>\n",
       "      <td>ON</td>\n",
       "      <td>email</td>\n",
       "      <td>A</td>\n",
       "      <td>0</td>\n",
       "      <td>0</td>\n",
       "      <td>0</td>\n",
       "    </tr>\n",
       "  </tbody>\n",
       "</table>\n",
       "</div>"
      ],
      "text/plain": [
       "   customer_id   segment  age province preferred_channel variant  converted  \\\n",
       "0            0      mass   73       ON              push       A          0   \n",
       "1            1      mass   63       QC             email       A          0   \n",
       "2            2  affluent   30       NL             email       B          0   \n",
       "3            3      mass   79       ON             email       A          0   \n",
       "4            4     youth   79       ON             email       A          0   \n",
       "\n",
       "   unsubscribe  complaint  \n",
       "0            0          0  \n",
       "1            0          0  \n",
       "2            0          0  \n",
       "3            0          0  \n",
       "4            0          0  "
      ]
     },
     "execution_count": 14,
     "metadata": {},
     "output_type": "execute_result"
    }
   ],
   "source": [
    "customers[\"unsubscribe\"] = rng.binomial(1, np.where(customers[\"variant\"].eq(\"B\"), 0.004, 0.004))\n",
    "customers[\"complaint\"] = rng.binomial(1, np.where(customers[\"variant\"].eq(\"B\"), 0.002, 0.002))\n",
    "\n",
    "customers.head()"
   ]
  },
  {
   "cell_type": "markdown",
   "id": "12a127b4",
   "metadata": {},
   "source": [
    "# -----------------------------\n",
    "# 2. Randomization Check (SRM)\n",
    "# -----------------------------\n",
    "# Check that random assignment produced balanced groups. If the test is significant, we may have SRM."
   ]
  },
  {
   "cell_type": "code",
   "execution_count": 9,
   "id": "d4d58643",
   "metadata": {},
   "outputs": [
    {
     "name": "stdout",
     "output_type": "stream",
     "text": [
      "SRM Test (Chi-square) {'chi2': np.float64(0.3362), 'p_value': np.float64(0.5620309098445604)}\n"
     ]
    }
   ],
   "source": [
    "obs = customers[\"variant\"].value_counts().values\n",
    "chi2, p_val = st.chisquare(obs, f_exp=[N/2, N/2])\n",
    "print(\"SRM Test (Chi-square)\", {\"chi2\":chi2, \"p_value\":p_val})"
   ]
  },
  {
   "cell_type": "markdown",
   "id": "f11b1634",
   "metadata": {},
   "source": [
    "# Compare balance by key covariates (segment, channel)"
   ]
  },
  {
   "cell_type": "code",
   "execution_count": 11,
   "id": "0b012389",
   "metadata": {},
   "outputs": [
    {
     "name": "stdout",
     "output_type": "stream",
     "text": [
      "Segment balance:\n",
      "variant          A         B\n",
      "segment                     \n",
      "affluent  0.501767  0.498233\n",
      "mass      0.500499  0.499501\n",
      "youth     0.486534  0.513466\n",
      "Channel balance:\n",
      "variant                   A         B\n",
      "preferred_channel                    \n",
      "email              0.496768  0.503232\n",
      "push               0.498261  0.501739\n",
      "sms                0.511868  0.488132\n"
     ]
    }
   ],
   "source": [
    "print(\"Segment balance:\")\n",
    "print(pd.crosstab(customers[\"segment\"], customers[\"variant\"], normalize=\"index\"))\n",
    "\n",
    "print(\"Channel balance:\")\n",
    "print(pd.crosstab(customers[\"preferred_channel\"], customers[\"variant\"], normalize=\"index\"))"
   ]
  },
  {
   "cell_type": "markdown",
   "id": "9dc02ef5",
   "metadata": {},
   "source": [
    "# -----------------------------\n",
    "# 3. Primary Analysis (Proportions test)\n",
    "# -----------------------------\n",
    "# We run a two-sample proportion z-test to see if conversion rate is higher in treatment (B)."
   ]
  },
  {
   "cell_type": "code",
   "execution_count": 15,
   "id": "4681e29b",
   "metadata": {},
   "outputs": [
    {
     "name": "stdout",
     "output_type": "stream",
     "text": [
      "Conversion Rates: {'A': np.float64(0.08705693342705091), 'B': np.float64(0.11492879195299273), 'uplift_pp': np.float64(2.787185852594182), 'p_value': np.float64(3.096571234256285e-11)}\n"
     ]
    }
   ],
   "source": [
    "tab = pd.crosstab(customers[\"variant\"], customers[\"converted\"])\n",
    "conv_A = tab.loc[\"A\",1] / tab.loc[\"A\"].sum()\n",
    "conv_B = tab.loc[\"B\",1] / tab.loc[\"B\"].sum()\n",
    "\n",
    "res = sm.stats.proportions_ztest([tab.loc[\"B\",1], tab.loc[\"A\",1]],\n",
    "[tab.loc[\"B\"].sum(), tab.loc[\"A\"].sum()],\n",
    "alternative=\"larger\")\n",
    "uplift = conv_B - conv_A\n",
    "\n",
    "print(\"Conversion Rates:\", {\"A\":conv_A, \"B\":conv_B, \"uplift_pp\":uplift*100, \"p_value\":res[1]})"
   ]
  },
  {
   "cell_type": "markdown",
   "id": "1b02d49e",
   "metadata": {},
   "source": [
    "# -----------------------------\n",
    "# 4. Logistic Regression (adjust for covariates)\n",
    "# -----------------------------\n",
    "# We fit a logistic regression to estimate the treatment effect while adjusting for covariates."
   ]
  },
  {
   "cell_type": "code",
   "execution_count": 16,
   "id": "d2e44e77",
   "metadata": {},
   "outputs": [
    {
     "name": "stdout",
     "output_type": "stream",
     "text": [
      "                           Logit Regression Results                           \n",
      "==============================================================================\n",
      "Dep. Variable:              converted   No. Observations:                20000\n",
      "Model:                          Logit   Df Residuals:                    19993\n",
      "Method:                           MLE   Df Model:                            6\n",
      "Date:                Fri, 19 Sep 2025   Pseudo R-squ.:                0.006452\n",
      "Time:                        01:19:46   Log-Likelihood:                -6505.4\n",
      "converged:                       True   LL-Null:                       -6547.7\n",
      "Covariance Type:            nonrobust   LLR p-value:                 4.206e-16\n",
      "================================================================================================\n",
      "                                   coef    std err          z      P>|z|      [0.025      0.975]\n",
      "------------------------------------------------------------------------------------------------\n",
      "Intercept                       -2.1579      0.087    -24.915      0.000      -2.328      -1.988\n",
      "C(segment)[T.mass]              -0.2956      0.058     -5.136      0.000      -0.408      -0.183\n",
      "C(segment)[T.youth]             -0.2677      0.072     -3.719      0.000      -0.409      -0.127\n",
      "C(preferred_channel)[T.push]     0.1326      0.051      2.621      0.009       0.033       0.232\n",
      "C(preferred_channel)[T.sms]     -0.3002      0.126     -2.380      0.017      -0.547      -0.053\n",
      "treat                            0.3098      0.047      6.533      0.000       0.217       0.403\n",
      "age                           8.711e-05      0.001      0.066      0.947      -0.002       0.003\n",
      "================================================================================================\n"
     ]
    }
   ],
   "source": [
    "df = customers.copy()\n",
    "df[\"treat\"] = (df[\"variant\"]==\"B\").astype(int)\n",
    "\n",
    "model = smf.logit(\"converted ~ treat + C(segment) + C(preferred_channel) + age\", data=df).fit(disp=False)\n",
    "print(model.summary())"
   ]
  },
  {
   "cell_type": "markdown",
   "id": "dbd7695b",
   "metadata": {},
   "source": [
    "# Odds ratio for treatment effect"
   ]
  },
  {
   "cell_type": "code",
   "execution_count": 17,
   "id": "5b646cc7",
   "metadata": {},
   "outputs": [
    {
     "name": "stdout",
     "output_type": "stream",
     "text": [
      "Treatment Odds Ratio: 1.3630907865641977\n"
     ]
    }
   ],
   "source": [
    "treat_or = np.exp(model.params[\"treat\"])\n",
    "print(\"Treatment Odds Ratio:\", treat_or)"
   ]
  },
  {
   "cell_type": "markdown",
   "id": "35eae834",
   "metadata": {},
   "source": [
    "# -----------------------------\n",
    "# 5. Heterogeneous Effects\n",
    "# -----------------------------\n",
    "# Examine treatment effects by segment and by communication channel."
   ]
  },
  {
   "cell_type": "code",
   "execution_count": 18,
   "id": "e14fe7d9",
   "metadata": {},
   "outputs": [
    {
     "name": "stdout",
     "output_type": "stream",
     "text": [
      "Conversion by Segment:\n",
      " variant          A         B\n",
      "segment                     \n",
      "affluent  0.108652  0.138298\n",
      "mass      0.083389  0.106358\n",
      "youth     0.076371  0.117533\n",
      "Conversion by Channel:\n",
      " variant                   A         B\n",
      "preferred_channel                    \n",
      "email              0.086445  0.110414\n",
      "push               0.093085  0.128425\n",
      "sms                0.058468  0.090909\n"
     ]
    }
   ],
   "source": [
    "seg_results = df.groupby([\"segment\",\"variant\"])['converted'].mean().unstack()\n",
    "print(\"Conversion by Segment:\\n\", seg_results)\n",
    "\n",
    "channel_results = df.groupby([\"preferred_channel\",\"variant\"])['converted'].mean().unstack()\n",
    "print(\"Conversion by Channel:\\n\", channel_results)"
   ]
  },
  {
   "cell_type": "markdown",
   "id": "c44c0912",
   "metadata": {},
   "source": [
    "# -----------------------------\n",
    "# 6. Guardrail Metrics\n",
    "# -----------------------------\n",
    "# Ensure that unsubscribe and complaint rates are not significantly worse in treatment."
   ]
  },
  {
   "cell_type": "code",
   "execution_count": 20,
   "id": "cf804145",
   "metadata": {},
   "outputs": [
    {
     "name": "stdout",
     "output_type": "stream",
     "text": [
      "complaint {'rate_A': np.float64(0.0029119389496937444), 'rate_B': np.float64(0.002191016830992929), 'p_value': np.float64(0.8439376853733327)}\n"
     ]
    }
   ],
   "source": [
    "for m in [\"unsubscribe\",\"complaint\"]:\n",
    "    tab = pd.crosstab(df[\"variant\"], df[m])\n",
    "    p = sm.stats.proportions_ztest([tab.loc[\"B\",1], tab.loc[\"A\",1]],\n",
    "                                   [tab.loc[\"B\"].sum(), tab.loc[\"A\"].sum()],\n",
    "                                   alternative=\"larger\")[1]\n",
    "print(m, {\"rate_A\": tab.loc[\"A\",1]/tab.loc[\"A\"].sum(),\n",
    "          \"rate_B\": tab.loc[\"B\",1]/tab.loc[\"B\"].sum(),\n",
    "          \"p_value\": p})"
   ]
  },
  {
   "cell_type": "markdown",
   "id": "94458da8",
   "metadata": {},
   "source": [
    "# -----------------------------\n",
    "# 7. Visualization\n",
    "# -----------------------------\n",
    "# Simple bar chart comparing conversion rates between A and B."
   ]
  },
  {
   "cell_type": "code",
   "execution_count": 21,
   "id": "249ef017",
   "metadata": {},
   "outputs": [
    {
     "data": {
      "image/png": "[encoded data removed]",
      "text/plain": [
       "<Figure size 600x400 with 1 Axes>"
      ]
     },
     "metadata": {},
     "output_type": "display_data"
    }
   ],
   "source": [
    "fig, ax = plt.subplots(figsize=(6,4))\n",
    "bar = df.groupby(\"variant\")[\"converted\"].mean().plot(kind=\"bar\", ax=ax, color=[\"gray\",\"green\"])\n",
    "plt.title(\"Conversion Rate by Variant\")\n",
    "plt.ylabel(\"Conversion Rate\")\n",
    "plt.xticks(rotation=0)\n",
    "plt.show()"
   ]
  },
  {
   "cell_type": "markdown",
   "id": "0ec3fb16",
   "metadata": {},
   "source": [
    "# -----------------------------\n",
    "# 8. Conclusion\n",
    "# -----------------------------\n",
    "# Interpret results and print a conclusion statement."
   ]
  },
  {
   "cell_type": "code",
   "execution_count": 22,
   "id": "ded6a84f",
   "metadata": {},
   "outputs": [
    {
     "name": "stdout",
     "output_type": "stream",
     "text": [
      "\n",
      "Conclusion:\n",
      "The sustainability nudge increased paperless adoption by 2.79 pp with statistical significance (p=0.000).\n"
     ]
    }
   ],
   "source": [
    "print(\"\\nConclusion:\")\n",
    "if res[1] < 0.05:\n",
    "    print(f\"The sustainability nudge increased paperless adoption by {uplift*100:.2f} pp with statistical significance (p={res[1]:.3f}).\")\n",
    "else:\n",
    "    print(\"No significant uplift detected. Continue monitoring or run a larger sample.\")"
   ]
  },
  {
   "cell_type": "code",
   "execution_count": null,
   "id": "54e2b1bb",
   "metadata": {},
   "outputs": [],
   "source": []
  }
 ],
 "metadata": {
  "kernelspec": {
   "display_name": "Python 3",
   "language": "python",
   "name": "python3"
  },
  "language_info": {
   "codemirror_mode": {
    "name": "ipython",
    "version": 3
   },
   "file_extension": ".py",
   "mimetype": "text/x-python",
   "name": "python",
   "nbconvert_exporter": "python",
   "pygments_lexer": "ipython3",
   "version": "3.13.3"
  }
 },
 "nbformat": 4,
 "nbformat_minor": 5
}
